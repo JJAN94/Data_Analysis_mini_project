{
 "cells": [
  {
   "cell_type": "markdown",
   "id": "9fa7d780-04e9-4af7-b2e6-9550592fb7c6",
   "metadata": {},
   "source": [
    "# Classifier Modeling"
   ]
  },
  {
   "cell_type": "markdown",
   "id": "e6404ef6-4b2c-45b3-8cdc-9f19179481b1",
   "metadata": {},
   "source": [
    "## 품질 검사의 Error 유무에 따른 분류모델을 생성\n",
    "- Decision Tree\n",
    "- Gradient Boosting\n",
    "- Random Forest"
   ]
  },
  {
   "cell_type": "code",
   "execution_count": 1,
   "id": "8e0b471c-da94-44cf-b40e-f4de057c02ad",
   "metadata": {},
   "outputs": [],
   "source": [
    "import os\n",
    "import pandas as pd\n",
    "import numpy as np\n",
    "import matplotlib as mpl\n",
    "import matplotlib.pyplot as plt\n",
    "import seaborn as sns\n",
    "%matplotlib inline\n",
    "if os.name == 'nt':\n",
    "    mpl.rc('font', family = 'binggrae')\n",
    "elif os.name == 'posix':\n",
    "    mpl.rc('font', family = 'AppleGothic')\n",
    "else:\n",
    "    print('check your os')\n",
    "\n",
    "import matplotlib_inline.backend_inline\n",
    "matplotlib_inline.backend_inline.set_matplotlib_formats('retina')\n",
    "\n",
    "# mpl.rc('font', family='binggrae')\n",
    "mpl.rc('axes', unicode_minus=True)\n",
    "pd.options.display.max_columns = 100\n",
    "pd.options.display.max_rows = 10000\n",
    "\n",
    "# 경고 무시\n",
    "import warnings\n",
    "warnings.filterwarnings('ignore')\n",
    "\n",
    "from sklearn.tree import DecisionTreeClassifier\n",
    "from sklearn.ensemble import RandomForestClassifier\n",
    "from sklearn.ensemble import GradientBoostingClassifier\n",
    "\n",
    "from sklearn.model_selection import train_test_split\n",
    "from sklearn.model_selection import GridSearchCV\n",
    "from sklearn.metrics import classification_report, accuracy_score\n",
    "\n",
    "# 회귀분석\n",
    "from statsmodels.formula.api import ols # 회귀분석 모델 생성\n",
    "from statsmodels.api import qqplot, add_constant # 잔차항 분석, 상수항\n",
    "import statsmodels.formula.api as smf # 선형 모델 생성\n",
    "from statsmodels.tools.eval_measures import rmse # 평가함수\n",
    "from sklearn.metrics import r2_score # 결정계수 평가지표\n",
    "from statsmodels.stats.outliers_influence import variance_inflation_factor # 다중공산성\n",
    "from sklearn.metrics import confusion_matrix"
   ]
  },
  {
   "cell_type": "code",
   "execution_count": 2,
   "id": "d3ae3f28-0335-48f7-990e-fc985f52971e",
   "metadata": {},
   "outputs": [],
   "source": [
    "path = '../data/project1/'"
   ]
  },
  {
   "cell_type": "code",
   "execution_count": 3,
   "id": "ec652dcb-374a-471c-91bc-b223639ee60d",
   "metadata": {},
   "outputs": [],
   "source": [
    "df3 = pd.read_csv(path+'preprocessing_data.csv')"
   ]
  },
  {
   "cell_type": "code",
   "execution_count": 4,
   "id": "febb8506-227b-4867-8dfa-4dd9c51ad5cd",
   "metadata": {},
   "outputs": [],
   "source": [
    "drop_ls = ['Unnamed: 0', 'process',  'type', 'Vapor', 'No_Die', 'Reinforcement', 'photo_soft_Chamber', 'process 2', 'Chamber_Route', 'UV_type', 'lithography_Chamber',\n",
    "'Range_check', 'Etching_Chamber', 'Process 3', 'Error_message', 'target_binom', 'Chamber_Num', 'process4']\n",
    "\n",
    "y = df3['target_binom']\n",
    "X = df3.drop(columns=drop_ls)"
   ]
  },
  {
   "cell_type": "code",
   "execution_count": 5,
   "id": "5afbf65a-5298-402c-a740-495ce9aec0bc",
   "metadata": {},
   "outputs": [
    {
     "data": {
      "text/html": [
       "<div>\n",
       "<style scoped>\n",
       "    .dataframe tbody tr th:only-of-type {\n",
       "        vertical-align: middle;\n",
       "    }\n",
       "\n",
       "    .dataframe tbody tr th {\n",
       "        vertical-align: top;\n",
       "    }\n",
       "\n",
       "    .dataframe thead th {\n",
       "        text-align: right;\n",
       "    }\n",
       "</style>\n",
       "<table border=\"1\" class=\"dataframe\">\n",
       "  <thead>\n",
       "    <tr style=\"text-align: right;\">\n",
       "      <th></th>\n",
       "      <th>Temp_Etching</th>\n",
       "      <th>Source_Power</th>\n",
       "      <th>Selectivity</th>\n",
       "      <th>Thin Film 4</th>\n",
       "      <th>Thin Film 3</th>\n",
       "      <th>Thin Film 2</th>\n",
       "      <th>Thin Film 1</th>\n",
       "      <th>ER</th>\n",
       "      <th>Flux60s</th>\n",
       "      <th>Flux90s</th>\n",
       "      <th>Flux160s</th>\n",
       "      <th>Flux480s</th>\n",
       "      <th>Flux840s</th>\n",
       "      <th>input_Energy</th>\n",
       "      <th>Temp_implantation</th>\n",
       "      <th>Furance_Temp</th>\n",
       "      <th>RTA_Temp</th>\n",
       "      <th>Target</th>\n",
       "      <th>Line_CD</th>\n",
       "      <th>Wavelength</th>\n",
       "      <th>Resolution</th>\n",
       "      <th>Energy_Exposure</th>\n",
       "      <th>Ox_Chamber</th>\n",
       "      <th>Temp_OXid</th>\n",
       "      <th>ppm</th>\n",
       "      <th>Pressure</th>\n",
       "      <th>Oxid_time</th>\n",
       "      <th>thickness</th>\n",
       "      <th>resist_target</th>\n",
       "      <th>N2_HMDS</th>\n",
       "      <th>pressure_HMDS</th>\n",
       "      <th>temp_HMDS</th>\n",
       "      <th>temp_HMDS_bake</th>\n",
       "      <th>time_HMDS_bake</th>\n",
       "      <th>spin1</th>\n",
       "      <th>spin2</th>\n",
       "      <th>spin3</th>\n",
       "      <th>photoresist_bake</th>\n",
       "      <th>temp_softbake</th>\n",
       "      <th>time_softbake</th>\n",
       "    </tr>\n",
       "  </thead>\n",
       "  <tbody>\n",
       "    <tr>\n",
       "      <th>0</th>\n",
       "      <td>70.878</td>\n",
       "      <td>50.851</td>\n",
       "      <td>1.047</td>\n",
       "      <td>251.0</td>\n",
       "      <td>267.06</td>\n",
       "      <td>303.82</td>\n",
       "      <td>361.38</td>\n",
       "      <td>3.679333</td>\n",
       "      <td>9.997373e+15</td>\n",
       "      <td>1.346079e+17</td>\n",
       "      <td>3.468281e+17</td>\n",
       "      <td>3.002593e+17</td>\n",
       "      <td>6.000007e+17</td>\n",
       "      <td>31574.410</td>\n",
       "      <td>102.847</td>\n",
       "      <td>885.0</td>\n",
       "      <td>154.0</td>\n",
       "      <td>96</td>\n",
       "      <td>30.959</td>\n",
       "      <td>405.0</td>\n",
       "      <td>516.657</td>\n",
       "      <td>109.769</td>\n",
       "      <td>1.0</td>\n",
       "      <td>1138.979159</td>\n",
       "      <td>32.80</td>\n",
       "      <td>0.200</td>\n",
       "      <td>62.0</td>\n",
       "      <td>699.443</td>\n",
       "      <td>1.211940</td>\n",
       "      <td>13.891</td>\n",
       "      <td>15.025</td>\n",
       "      <td>20.000</td>\n",
       "      <td>198.792</td>\n",
       "      <td>90.001</td>\n",
       "      <td>504.589</td>\n",
       "      <td>4082.622</td>\n",
       "      <td>5184.620</td>\n",
       "      <td>5.044</td>\n",
       "      <td>90.894</td>\n",
       "      <td>30.009</td>\n",
       "    </tr>\n",
       "    <tr>\n",
       "      <th>1</th>\n",
       "      <td>69.561</td>\n",
       "      <td>52.283</td>\n",
       "      <td>1.051</td>\n",
       "      <td>317.0</td>\n",
       "      <td>332.74</td>\n",
       "      <td>369.31</td>\n",
       "      <td>426.11</td>\n",
       "      <td>3.637000</td>\n",
       "      <td>9.705928e+15</td>\n",
       "      <td>1.389326e+17</td>\n",
       "      <td>3.838008e+17</td>\n",
       "      <td>3.017903e+17</td>\n",
       "      <td>6.000012e+17</td>\n",
       "      <td>31580.213</td>\n",
       "      <td>104.323</td>\n",
       "      <td>919.0</td>\n",
       "      <td>154.0</td>\n",
       "      <td>102</td>\n",
       "      <td>29.653</td>\n",
       "      <td>405.0</td>\n",
       "      <td>501.894</td>\n",
       "      <td>107.102</td>\n",
       "      <td>1.0</td>\n",
       "      <td>1218.184551</td>\n",
       "      <td>31.86</td>\n",
       "      <td>0.194</td>\n",
       "      <td>137.0</td>\n",
       "      <td>696.792</td>\n",
       "      <td>0.887720</td>\n",
       "      <td>14.722</td>\n",
       "      <td>15.059</td>\n",
       "      <td>19.995</td>\n",
       "      <td>198.747</td>\n",
       "      <td>89.998</td>\n",
       "      <td>492.196</td>\n",
       "      <td>3960.739</td>\n",
       "      <td>5065.197</td>\n",
       "      <td>5.058</td>\n",
       "      <td>92.334</td>\n",
       "      <td>29.997</td>\n",
       "    </tr>\n",
       "    <tr>\n",
       "      <th>2</th>\n",
       "      <td>70.968</td>\n",
       "      <td>51.610</td>\n",
       "      <td>1.017</td>\n",
       "      <td>411.0</td>\n",
       "      <td>424.21</td>\n",
       "      <td>460.65</td>\n",
       "      <td>517.80</td>\n",
       "      <td>3.560000</td>\n",
       "      <td>1.761358e+16</td>\n",
       "      <td>8.782248e+16</td>\n",
       "      <td>6.014497e+17</td>\n",
       "      <td>2.994231e+17</td>\n",
       "      <td>6.000002e+17</td>\n",
       "      <td>32162.414</td>\n",
       "      <td>100.605</td>\n",
       "      <td>916.0</td>\n",
       "      <td>155.0</td>\n",
       "      <td>95</td>\n",
       "      <td>28.063</td>\n",
       "      <td>365.0</td>\n",
       "      <td>506.750</td>\n",
       "      <td>110.471</td>\n",
       "      <td>1.0</td>\n",
       "      <td>1062.467808</td>\n",
       "      <td>39.51</td>\n",
       "      <td>0.217</td>\n",
       "      <td>128.0</td>\n",
       "      <td>705.471</td>\n",
       "      <td>1.113156</td>\n",
       "      <td>19.205</td>\n",
       "      <td>14.964</td>\n",
       "      <td>19.997</td>\n",
       "      <td>202.139</td>\n",
       "      <td>90.000</td>\n",
       "      <td>499.886</td>\n",
       "      <td>3981.691</td>\n",
       "      <td>4873.417</td>\n",
       "      <td>5.151</td>\n",
       "      <td>91.868</td>\n",
       "      <td>30.005</td>\n",
       "    </tr>\n",
       "  </tbody>\n",
       "</table>\n",
       "</div>"
      ],
      "text/plain": [
       "   Temp_Etching  Source_Power  Selectivity  Thin Film 4  Thin Film 3  \\\n",
       "0        70.878        50.851        1.047        251.0       267.06   \n",
       "1        69.561        52.283        1.051        317.0       332.74   \n",
       "2        70.968        51.610        1.017        411.0       424.21   \n",
       "\n",
       "   Thin Film 2  Thin Film 1        ER       Flux60s       Flux90s  \\\n",
       "0       303.82       361.38  3.679333  9.997373e+15  1.346079e+17   \n",
       "1       369.31       426.11  3.637000  9.705928e+15  1.389326e+17   \n",
       "2       460.65       517.80  3.560000  1.761358e+16  8.782248e+16   \n",
       "\n",
       "       Flux160s      Flux480s      Flux840s  input_Energy  Temp_implantation  \\\n",
       "0  3.468281e+17  3.002593e+17  6.000007e+17     31574.410            102.847   \n",
       "1  3.838008e+17  3.017903e+17  6.000012e+17     31580.213            104.323   \n",
       "2  6.014497e+17  2.994231e+17  6.000002e+17     32162.414            100.605   \n",
       "\n",
       "   Furance_Temp  RTA_Temp  Target  Line_CD  Wavelength  Resolution  \\\n",
       "0         885.0     154.0      96   30.959       405.0     516.657   \n",
       "1         919.0     154.0     102   29.653       405.0     501.894   \n",
       "2         916.0     155.0      95   28.063       365.0     506.750   \n",
       "\n",
       "   Energy_Exposure  Ox_Chamber    Temp_OXid    ppm  Pressure  Oxid_time  \\\n",
       "0          109.769         1.0  1138.979159  32.80     0.200       62.0   \n",
       "1          107.102         1.0  1218.184551  31.86     0.194      137.0   \n",
       "2          110.471         1.0  1062.467808  39.51     0.217      128.0   \n",
       "\n",
       "   thickness  resist_target  N2_HMDS  pressure_HMDS  temp_HMDS  \\\n",
       "0    699.443       1.211940   13.891         15.025     20.000   \n",
       "1    696.792       0.887720   14.722         15.059     19.995   \n",
       "2    705.471       1.113156   19.205         14.964     19.997   \n",
       "\n",
       "   temp_HMDS_bake  time_HMDS_bake    spin1     spin2     spin3  \\\n",
       "0         198.792          90.001  504.589  4082.622  5184.620   \n",
       "1         198.747          89.998  492.196  3960.739  5065.197   \n",
       "2         202.139          90.000  499.886  3981.691  4873.417   \n",
       "\n",
       "   photoresist_bake  temp_softbake  time_softbake  \n",
       "0             5.044         90.894         30.009  \n",
       "1             5.058         92.334         29.997  \n",
       "2             5.151         91.868         30.005  "
      ]
     },
     "execution_count": 5,
     "metadata": {},
     "output_type": "execute_result"
    }
   ],
   "source": [
    "X.head(3)"
   ]
  },
  {
   "cell_type": "code",
   "execution_count": 6,
   "id": "1f28e1bd-8bda-4b8e-a4d5-cee58052852f",
   "metadata": {},
   "outputs": [
    {
     "name": "stdout",
     "output_type": "stream",
     "text": [
      "(758, 40) (758,)\n"
     ]
    }
   ],
   "source": [
    "print(X.shape, y.shape)"
   ]
  },
  {
   "cell_type": "code",
   "execution_count": 7,
   "id": "976c8383-d0f2-45c6-8bcf-40f82fb5f0ee",
   "metadata": {},
   "outputs": [],
   "source": [
    "X_train, X_test, y_train, y_test = train_test_split(X, y, test_size = 0.25)"
   ]
  },
  {
   "cell_type": "code",
   "execution_count": 8,
   "id": "5d5d0dc7-6a67-4526-a68a-a3452d296eaf",
   "metadata": {},
   "outputs": [
    {
     "name": "stdout",
     "output_type": "stream",
     "text": [
      "(568, 40)\n",
      "(190, 40)\n",
      "(568,)\n",
      "(190,)\n"
     ]
    }
   ],
   "source": [
    "print(X_train.shape)\n",
    "print(X_test.shape)\n",
    "print(y_train.shape)\n",
    "print(y_test.shape)"
   ]
  },
  {
   "cell_type": "markdown",
   "id": "4dc30aed-6814-4d99-9dee-9d77e9d6286c",
   "metadata": {},
   "source": [
    "### Decision Tree를 이용한 모델링"
   ]
  },
  {
   "cell_type": "code",
   "execution_count": 9,
   "id": "72acfe90-d8e4-49fb-a508-8bd34fecf539",
   "metadata": {},
   "outputs": [],
   "source": [
    "clf_grid = GridSearchCV(DecisionTreeClassifier(), n_jobs=-1,\n",
    "            param_grid={'class_weight': [None, 'balanced'],\n",
    "                            'criterion':['gini', 'entropy'],\n",
    "                            'max_depth': [2,3,4,5,6,7],\n",
    "                            'min_samples_leaf': [3,4,5,6,7],\n",
    "                            'min_samples_split': [4,5,6,7,8]},\n",
    "            scoring='f1')"
   ]
  },
  {
   "cell_type": "code",
   "execution_count": 10,
   "id": "1a0da700-c4a8-4b81-a892-7765314cb1a8",
   "metadata": {},
   "outputs": [],
   "source": [
    "grid_result =clf_grid.fit(X_train, y_train)"
   ]
  },
  {
   "cell_type": "code",
   "execution_count": 11,
   "id": "e8836727-b6ca-4336-824e-a343b797e4a4",
   "metadata": {},
   "outputs": [
    {
     "name": "stdout",
     "output_type": "stream",
     "text": [
      "{'class_weight': None, 'criterion': 'gini', 'max_depth': 2, 'min_samples_leaf': 3, 'min_samples_split': 4}\n",
      "1.0\n"
     ]
    },
    {
     "data": {
      "text/plain": [
       "DecisionTreeClassifier(max_depth=2, min_samples_leaf=3, min_samples_split=4)"
      ]
     },
     "execution_count": 11,
     "metadata": {},
     "output_type": "execute_result"
    }
   ],
   "source": [
    "print(grid_result.best_params_)\n",
    "print(grid_result.best_score_)\n",
    "grid_result.best_estimator_"
   ]
  },
  {
   "cell_type": "code",
   "execution_count": 12,
   "id": "7fac82fb-96cd-480a-8e6f-3214155ab35e",
   "metadata": {},
   "outputs": [],
   "source": [
    "## grid _result의 결과로 의사 결정 트리를 사용. 베스트 모델 생성\n",
    "best_model = DecisionTreeClassifier(criterion = 'gini', max_depth = 2, min_samples_leaf=3, min_samples_split=4)"
   ]
  },
  {
   "cell_type": "code",
   "execution_count": 13,
   "id": "2c3c6983-87a2-4580-b747-bdf6ed11df45",
   "metadata": {},
   "outputs": [
    {
     "name": "stdout",
     "output_type": "stream",
     "text": [
      "DecisionTreeClassifier(max_depth=2, min_samples_leaf=3, min_samples_split=4)\n"
     ]
    }
   ],
   "source": [
    "print(best_model)"
   ]
  },
  {
   "cell_type": "code",
   "execution_count": 14,
   "id": "356cdf37-06be-41f3-b933-df641b8ee342",
   "metadata": {},
   "outputs": [
    {
     "data": {
      "text/plain": [
       "DecisionTreeClassifier(max_depth=2, min_samples_leaf=3, min_samples_split=4)"
      ]
     },
     "execution_count": 14,
     "metadata": {},
     "output_type": "execute_result"
    }
   ],
   "source": [
    "best_model.fit(X_train, y_train) # 베스트 모델 기반으로 가중치 학습"
   ]
  },
  {
   "cell_type": "code",
   "execution_count": 15,
   "id": "15c91b0a-5f21-42f8-9966-016795c556ae",
   "metadata": {},
   "outputs": [],
   "source": [
    "y_train_pred = best_model.predict(X_train)\n",
    "y_test_pred = best_model.predict(X_test)"
   ]
  },
  {
   "cell_type": "code",
   "execution_count": 16,
   "id": "588d3d29-2c5c-4d81-8d14-498f679f324c",
   "metadata": {},
   "outputs": [
    {
     "name": "stdout",
     "output_type": "stream",
     "text": [
      "(568,)\n"
     ]
    },
    {
     "data": {
      "text/plain": [
       "(190,)"
      ]
     },
     "execution_count": 16,
     "metadata": {},
     "output_type": "execute_result"
    }
   ],
   "source": [
    "print(y_train_pred.shape)\n",
    "y_test_pred.shape"
   ]
  },
  {
   "cell_type": "code",
   "execution_count": 17,
   "id": "503e4290-088a-48e7-a9ff-2112b7d98b7b",
   "metadata": {},
   "outputs": [],
   "source": [
    "score = accuracy_score(y_test, y_test_pred)"
   ]
  },
  {
   "cell_type": "code",
   "execution_count": 18,
   "id": "b0dcfb77-c579-4f92-8b25-051014f98fc2",
   "metadata": {},
   "outputs": [
    {
     "name": "stdout",
     "output_type": "stream",
     "text": [
      "1.0 \n",
      " [[175   0]\n",
      " [  0  15]]\n"
     ]
    }
   ],
   "source": [
    "conf_mat = confusion_matrix(y_test, y_test_pred)\n",
    "\n",
    "print(score, '\\n',conf_mat)"
   ]
  },
  {
   "cell_type": "code",
   "execution_count": 19,
   "id": "38e6f42b-4903-496a-8281-c515b2abc08e",
   "metadata": {},
   "outputs": [
    {
     "name": "stdout",
     "output_type": "stream",
     "text": [
      "              precision    recall  f1-score   support\n",
      "\n",
      "         0.0       1.00      1.00      1.00       519\n",
      "         1.0       1.00      1.00      1.00        49\n",
      "\n",
      "    accuracy                           1.00       568\n",
      "   macro avg       1.00      1.00      1.00       568\n",
      "weighted avg       1.00      1.00      1.00       568\n",
      "\n",
      "\n",
      "\n",
      "              precision    recall  f1-score   support\n",
      "\n",
      "         0.0       1.00      1.00      1.00       175\n",
      "         1.0       1.00      1.00      1.00        15\n",
      "\n",
      "    accuracy                           1.00       190\n",
      "   macro avg       1.00      1.00      1.00       190\n",
      "weighted avg       1.00      1.00      1.00       190\n",
      "\n"
     ]
    }
   ],
   "source": [
    "print(classification_report(y_train,  y_train_pred))\n",
    "print(\"\\n\")\n",
    "print(classification_report(y_test,  y_test_pred))"
   ]
  },
  {
   "cell_type": "markdown",
   "id": "808ec490-7da6-4b0a-b346-ef4e57429219",
   "metadata": {},
   "source": [
    "### Gradient Boost(GBM)를 이용한 모델링"
   ]
  },
  {
   "cell_type": "code",
   "execution_count": 20,
   "id": "c40b489a-3193-4916-a79d-81de03aa1dae",
   "metadata": {},
   "outputs": [],
   "source": [
    "clf_grid = GridSearchCV(GradientBoostingClassifier(), n_jobs=-1,\n",
    "            param_grid={\n",
    "                            'criterion':['friedman_mse', 'squared_error', 'mse', 'mae'],\n",
    "                           'learning_rate': [0.1, 0.01, 0.001],\n",
    "                            'n_estimators' : [50, 100, 150],\n",
    "                            'max_depth' : [2,3,4,5,6]\n",
    "            } )"
   ]
  },
  {
   "cell_type": "code",
   "execution_count": 21,
   "id": "1c0fa364-41b0-4791-8df0-b52e96a2547b",
   "metadata": {},
   "outputs": [
    {
     "data": {
      "text/plain": [
       "GridSearchCV(estimator=GradientBoostingClassifier(), n_jobs=-1,\n",
       "             param_grid={'criterion': ['friedman_mse', 'squared_error', 'mse',\n",
       "                                       'mae'],\n",
       "                         'learning_rate': [0.1, 0.01, 0.001],\n",
       "                         'max_depth': [2, 3, 4, 5, 6],\n",
       "                         'n_estimators': [50, 100, 150]})"
      ]
     },
     "execution_count": 21,
     "metadata": {},
     "output_type": "execute_result"
    }
   ],
   "source": [
    "clf_grid.fit(X_train, y_train)"
   ]
  },
  {
   "cell_type": "code",
   "execution_count": 22,
   "id": "489fcca2-da8f-4e67-abac-80d01bb8d847",
   "metadata": {},
   "outputs": [
    {
     "data": {
      "text/plain": [
       "{'criterion': 'friedman_mse',\n",
       " 'learning_rate': 0.1,\n",
       " 'max_depth': 2,\n",
       " 'n_estimators': 50}"
      ]
     },
     "execution_count": 22,
     "metadata": {},
     "output_type": "execute_result"
    }
   ],
   "source": [
    "clf_grid.best_params_"
   ]
  },
  {
   "cell_type": "code",
   "execution_count": 23,
   "id": "d74c37ce-b767-4b09-b0ac-9fbf0ef4a620",
   "metadata": {},
   "outputs": [
    {
     "data": {
      "text/plain": [
       "GradientBoostingClassifier(max_depth=2, n_estimators=50)"
      ]
     },
     "execution_count": 23,
     "metadata": {},
     "output_type": "execute_result"
    }
   ],
   "source": [
    "clf_grid.best_estimator_"
   ]
  },
  {
   "cell_type": "code",
   "execution_count": 24,
   "id": "93a6821d-2f67-4640-9087-da312856712c",
   "metadata": {},
   "outputs": [],
   "source": [
    "gbm = GradientBoostingClassifier(criterion  = 'friedman_mse', learning_rate = 0.1, max_depth = 2, n_estimators = 50)"
   ]
  },
  {
   "cell_type": "code",
   "execution_count": 25,
   "id": "93a17fc7-7dcf-43e3-ba01-dcf589a7178f",
   "metadata": {},
   "outputs": [],
   "source": [
    "gbm_result = gbm.fit(X_train, y_train)"
   ]
  },
  {
   "cell_type": "code",
   "execution_count": 26,
   "id": "afdf3b69-24c6-4bf9-9c37-393e3db4a6ff",
   "metadata": {},
   "outputs": [],
   "source": [
    "y_train_pred = gbm_result.predict(X_train)\n",
    "y_test_pred = gbm_result.predict(X_test)"
   ]
  },
  {
   "cell_type": "code",
   "execution_count": 27,
   "id": "993ca31a-3fcf-4631-9b03-dcd59bcb1cfe",
   "metadata": {},
   "outputs": [
    {
     "data": {
      "text/plain": [
       "1.0"
      ]
     },
     "execution_count": 27,
     "metadata": {},
     "output_type": "execute_result"
    }
   ],
   "source": [
    "accuracy_score(y_train, y_train_pred)"
   ]
  },
  {
   "cell_type": "code",
   "execution_count": 28,
   "id": "8d7bd0bc-a75f-4b35-908d-2e3c712b559c",
   "metadata": {},
   "outputs": [
    {
     "name": "stdout",
     "output_type": "stream",
     "text": [
      "1.0 \n",
      " [[175   0]\n",
      " [  0  15]]\n"
     ]
    }
   ],
   "source": [
    "conf_mat = confusion_matrix(y_test, y_test_pred)\n",
    "print(score, '\\n',conf_mat)"
   ]
  },
  {
   "cell_type": "code",
   "execution_count": 29,
   "id": "0061f607-a294-420e-b22d-90afa4fc17bd",
   "metadata": {},
   "outputs": [
    {
     "name": "stdout",
     "output_type": "stream",
     "text": [
      "              precision    recall  f1-score   support\n",
      "\n",
      "         0.0       1.00      1.00      1.00       519\n",
      "         1.0       1.00      1.00      1.00        49\n",
      "\n",
      "    accuracy                           1.00       568\n",
      "   macro avg       1.00      1.00      1.00       568\n",
      "weighted avg       1.00      1.00      1.00       568\n",
      "\n",
      "\n",
      "\n",
      "              precision    recall  f1-score   support\n",
      "\n",
      "         0.0       1.00      1.00      1.00       175\n",
      "         1.0       1.00      1.00      1.00        15\n",
      "\n",
      "    accuracy                           1.00       190\n",
      "   macro avg       1.00      1.00      1.00       190\n",
      "weighted avg       1.00      1.00      1.00       190\n",
      "\n"
     ]
    }
   ],
   "source": [
    "print(classification_report(y_train,  y_train_pred))\n",
    "print(\"\\n\")\n",
    "print(classification_report(y_test,  y_test_pred))"
   ]
  },
  {
   "cell_type": "code",
   "execution_count": 30,
   "id": "e57f8410-27ec-4103-a642-256f7fcbe7c1",
   "metadata": {},
   "outputs": [
    {
     "data": {
      "text/html": [
       "<div>\n",
       "<style scoped>\n",
       "    .dataframe tbody tr th:only-of-type {\n",
       "        vertical-align: middle;\n",
       "    }\n",
       "\n",
       "    .dataframe tbody tr th {\n",
       "        vertical-align: top;\n",
       "    }\n",
       "\n",
       "    .dataframe thead th {\n",
       "        text-align: right;\n",
       "    }\n",
       "</style>\n",
       "<table border=\"1\" class=\"dataframe\">\n",
       "  <thead>\n",
       "    <tr style=\"text-align: right;\">\n",
       "      <th></th>\n",
       "      <th>Temp_Etching</th>\n",
       "      <th>Source_Power</th>\n",
       "      <th>Selectivity</th>\n",
       "      <th>Thin Film 4</th>\n",
       "      <th>Thin Film 3</th>\n",
       "      <th>Thin Film 2</th>\n",
       "      <th>Thin Film 1</th>\n",
       "      <th>ER</th>\n",
       "      <th>Flux60s</th>\n",
       "      <th>Flux90s</th>\n",
       "      <th>Flux160s</th>\n",
       "      <th>Flux480s</th>\n",
       "      <th>Flux840s</th>\n",
       "      <th>input_Energy</th>\n",
       "      <th>Temp_implantation</th>\n",
       "      <th>Furance_Temp</th>\n",
       "      <th>RTA_Temp</th>\n",
       "      <th>Target</th>\n",
       "      <th>Line_CD</th>\n",
       "      <th>Wavelength</th>\n",
       "      <th>Resolution</th>\n",
       "      <th>Energy_Exposure</th>\n",
       "      <th>Ox_Chamber</th>\n",
       "      <th>Temp_OXid</th>\n",
       "      <th>ppm</th>\n",
       "      <th>Pressure</th>\n",
       "      <th>Oxid_time</th>\n",
       "      <th>thickness</th>\n",
       "      <th>resist_target</th>\n",
       "      <th>N2_HMDS</th>\n",
       "      <th>pressure_HMDS</th>\n",
       "      <th>temp_HMDS</th>\n",
       "      <th>temp_HMDS_bake</th>\n",
       "      <th>time_HMDS_bake</th>\n",
       "      <th>spin1</th>\n",
       "      <th>spin2</th>\n",
       "      <th>spin3</th>\n",
       "      <th>photoresist_bake</th>\n",
       "      <th>temp_softbake</th>\n",
       "      <th>time_softbake</th>\n",
       "    </tr>\n",
       "  </thead>\n",
       "  <tbody>\n",
       "    <tr>\n",
       "      <th>0</th>\n",
       "      <td>70.878</td>\n",
       "      <td>50.851</td>\n",
       "      <td>1.047</td>\n",
       "      <td>251.0</td>\n",
       "      <td>267.06</td>\n",
       "      <td>303.82</td>\n",
       "      <td>361.38</td>\n",
       "      <td>3.679333</td>\n",
       "      <td>9.997373e+15</td>\n",
       "      <td>1.346079e+17</td>\n",
       "      <td>3.468281e+17</td>\n",
       "      <td>3.002593e+17</td>\n",
       "      <td>6.000007e+17</td>\n",
       "      <td>31574.410</td>\n",
       "      <td>102.847</td>\n",
       "      <td>885.0</td>\n",
       "      <td>154.0</td>\n",
       "      <td>96</td>\n",
       "      <td>30.959</td>\n",
       "      <td>405.0</td>\n",
       "      <td>516.657</td>\n",
       "      <td>109.769</td>\n",
       "      <td>1.0</td>\n",
       "      <td>1138.979159</td>\n",
       "      <td>32.80</td>\n",
       "      <td>0.200</td>\n",
       "      <td>62.0</td>\n",
       "      <td>699.443</td>\n",
       "      <td>1.211940</td>\n",
       "      <td>13.891</td>\n",
       "      <td>15.025</td>\n",
       "      <td>20.000</td>\n",
       "      <td>198.792</td>\n",
       "      <td>90.001</td>\n",
       "      <td>504.589</td>\n",
       "      <td>4082.622</td>\n",
       "      <td>5184.620</td>\n",
       "      <td>5.044</td>\n",
       "      <td>90.894</td>\n",
       "      <td>30.009</td>\n",
       "    </tr>\n",
       "    <tr>\n",
       "      <th>1</th>\n",
       "      <td>69.561</td>\n",
       "      <td>52.283</td>\n",
       "      <td>1.051</td>\n",
       "      <td>317.0</td>\n",
       "      <td>332.74</td>\n",
       "      <td>369.31</td>\n",
       "      <td>426.11</td>\n",
       "      <td>3.637000</td>\n",
       "      <td>9.705928e+15</td>\n",
       "      <td>1.389326e+17</td>\n",
       "      <td>3.838008e+17</td>\n",
       "      <td>3.017903e+17</td>\n",
       "      <td>6.000012e+17</td>\n",
       "      <td>31580.213</td>\n",
       "      <td>104.323</td>\n",
       "      <td>919.0</td>\n",
       "      <td>154.0</td>\n",
       "      <td>102</td>\n",
       "      <td>29.653</td>\n",
       "      <td>405.0</td>\n",
       "      <td>501.894</td>\n",
       "      <td>107.102</td>\n",
       "      <td>1.0</td>\n",
       "      <td>1218.184551</td>\n",
       "      <td>31.86</td>\n",
       "      <td>0.194</td>\n",
       "      <td>137.0</td>\n",
       "      <td>696.792</td>\n",
       "      <td>0.887720</td>\n",
       "      <td>14.722</td>\n",
       "      <td>15.059</td>\n",
       "      <td>19.995</td>\n",
       "      <td>198.747</td>\n",
       "      <td>89.998</td>\n",
       "      <td>492.196</td>\n",
       "      <td>3960.739</td>\n",
       "      <td>5065.197</td>\n",
       "      <td>5.058</td>\n",
       "      <td>92.334</td>\n",
       "      <td>29.997</td>\n",
       "    </tr>\n",
       "    <tr>\n",
       "      <th>2</th>\n",
       "      <td>70.968</td>\n",
       "      <td>51.610</td>\n",
       "      <td>1.017</td>\n",
       "      <td>411.0</td>\n",
       "      <td>424.21</td>\n",
       "      <td>460.65</td>\n",
       "      <td>517.80</td>\n",
       "      <td>3.560000</td>\n",
       "      <td>1.761358e+16</td>\n",
       "      <td>8.782248e+16</td>\n",
       "      <td>6.014497e+17</td>\n",
       "      <td>2.994231e+17</td>\n",
       "      <td>6.000002e+17</td>\n",
       "      <td>32162.414</td>\n",
       "      <td>100.605</td>\n",
       "      <td>916.0</td>\n",
       "      <td>155.0</td>\n",
       "      <td>95</td>\n",
       "      <td>28.063</td>\n",
       "      <td>365.0</td>\n",
       "      <td>506.750</td>\n",
       "      <td>110.471</td>\n",
       "      <td>1.0</td>\n",
       "      <td>1062.467808</td>\n",
       "      <td>39.51</td>\n",
       "      <td>0.217</td>\n",
       "      <td>128.0</td>\n",
       "      <td>705.471</td>\n",
       "      <td>1.113156</td>\n",
       "      <td>19.205</td>\n",
       "      <td>14.964</td>\n",
       "      <td>19.997</td>\n",
       "      <td>202.139</td>\n",
       "      <td>90.000</td>\n",
       "      <td>499.886</td>\n",
       "      <td>3981.691</td>\n",
       "      <td>4873.417</td>\n",
       "      <td>5.151</td>\n",
       "      <td>91.868</td>\n",
       "      <td>30.005</td>\n",
       "    </tr>\n",
       "    <tr>\n",
       "      <th>3</th>\n",
       "      <td>70.146</td>\n",
       "      <td>51.286</td>\n",
       "      <td>1.027</td>\n",
       "      <td>256.0</td>\n",
       "      <td>272.28</td>\n",
       "      <td>308.56</td>\n",
       "      <td>365.93</td>\n",
       "      <td>3.664333</td>\n",
       "      <td>1.148303e+16</td>\n",
       "      <td>9.776566e+16</td>\n",
       "      <td>6.646884e+16</td>\n",
       "      <td>2.991354e+17</td>\n",
       "      <td>6.000003e+17</td>\n",
       "      <td>32874.925</td>\n",
       "      <td>101.739</td>\n",
       "      <td>911.0</td>\n",
       "      <td>156.0</td>\n",
       "      <td>117</td>\n",
       "      <td>31.556</td>\n",
       "      <td>365.0</td>\n",
       "      <td>537.603</td>\n",
       "      <td>107.072</td>\n",
       "      <td>1.0</td>\n",
       "      <td>1114.704773</td>\n",
       "      <td>32.88</td>\n",
       "      <td>0.201</td>\n",
       "      <td>90.0</td>\n",
       "      <td>710.772</td>\n",
       "      <td>0.882195</td>\n",
       "      <td>16.368</td>\n",
       "      <td>14.944</td>\n",
       "      <td>19.998</td>\n",
       "      <td>199.649</td>\n",
       "      <td>90.001</td>\n",
       "      <td>505.249</td>\n",
       "      <td>3922.191</td>\n",
       "      <td>5131.972</td>\n",
       "      <td>5.069</td>\n",
       "      <td>91.881</td>\n",
       "      <td>29.997</td>\n",
       "    </tr>\n",
       "    <tr>\n",
       "      <th>4</th>\n",
       "      <td>71.174</td>\n",
       "      <td>51.996</td>\n",
       "      <td>1.050</td>\n",
       "      <td>419.0</td>\n",
       "      <td>434.98</td>\n",
       "      <td>471.65</td>\n",
       "      <td>528.85</td>\n",
       "      <td>3.661667</td>\n",
       "      <td>9.769204e+15</td>\n",
       "      <td>1.222219e+17</td>\n",
       "      <td>2.496090e+17</td>\n",
       "      <td>3.005576e+17</td>\n",
       "      <td>6.000013e+17</td>\n",
       "      <td>30985.928</td>\n",
       "      <td>106.422</td>\n",
       "      <td>872.0</td>\n",
       "      <td>155.0</td>\n",
       "      <td>143</td>\n",
       "      <td>31.969</td>\n",
       "      <td>365.0</td>\n",
       "      <td>560.574</td>\n",
       "      <td>108.073</td>\n",
       "      <td>1.0</td>\n",
       "      <td>989.411946</td>\n",
       "      <td>38.11</td>\n",
       "      <td>0.204</td>\n",
       "      <td>98.0</td>\n",
       "      <td>716.975</td>\n",
       "      <td>0.834001</td>\n",
       "      <td>13.926</td>\n",
       "      <td>14.933</td>\n",
       "      <td>20.002</td>\n",
       "      <td>204.544</td>\n",
       "      <td>90.001</td>\n",
       "      <td>501.089</td>\n",
       "      <td>4124.099</td>\n",
       "      <td>5108.355</td>\n",
       "      <td>5.055</td>\n",
       "      <td>91.212</td>\n",
       "      <td>30.001</td>\n",
       "    </tr>\n",
       "  </tbody>\n",
       "</table>\n",
       "</div>"
      ],
      "text/plain": [
       "   Temp_Etching  Source_Power  Selectivity  Thin Film 4  Thin Film 3  \\\n",
       "0        70.878        50.851        1.047        251.0       267.06   \n",
       "1        69.561        52.283        1.051        317.0       332.74   \n",
       "2        70.968        51.610        1.017        411.0       424.21   \n",
       "3        70.146        51.286        1.027        256.0       272.28   \n",
       "4        71.174        51.996        1.050        419.0       434.98   \n",
       "\n",
       "   Thin Film 2  Thin Film 1        ER       Flux60s       Flux90s  \\\n",
       "0       303.82       361.38  3.679333  9.997373e+15  1.346079e+17   \n",
       "1       369.31       426.11  3.637000  9.705928e+15  1.389326e+17   \n",
       "2       460.65       517.80  3.560000  1.761358e+16  8.782248e+16   \n",
       "3       308.56       365.93  3.664333  1.148303e+16  9.776566e+16   \n",
       "4       471.65       528.85  3.661667  9.769204e+15  1.222219e+17   \n",
       "\n",
       "       Flux160s      Flux480s      Flux840s  input_Energy  Temp_implantation  \\\n",
       "0  3.468281e+17  3.002593e+17  6.000007e+17     31574.410            102.847   \n",
       "1  3.838008e+17  3.017903e+17  6.000012e+17     31580.213            104.323   \n",
       "2  6.014497e+17  2.994231e+17  6.000002e+17     32162.414            100.605   \n",
       "3  6.646884e+16  2.991354e+17  6.000003e+17     32874.925            101.739   \n",
       "4  2.496090e+17  3.005576e+17  6.000013e+17     30985.928            106.422   \n",
       "\n",
       "   Furance_Temp  RTA_Temp  Target  Line_CD  Wavelength  Resolution  \\\n",
       "0         885.0     154.0      96   30.959       405.0     516.657   \n",
       "1         919.0     154.0     102   29.653       405.0     501.894   \n",
       "2         916.0     155.0      95   28.063       365.0     506.750   \n",
       "3         911.0     156.0     117   31.556       365.0     537.603   \n",
       "4         872.0     155.0     143   31.969       365.0     560.574   \n",
       "\n",
       "   Energy_Exposure  Ox_Chamber    Temp_OXid    ppm  Pressure  Oxid_time  \\\n",
       "0          109.769         1.0  1138.979159  32.80     0.200       62.0   \n",
       "1          107.102         1.0  1218.184551  31.86     0.194      137.0   \n",
       "2          110.471         1.0  1062.467808  39.51     0.217      128.0   \n",
       "3          107.072         1.0  1114.704773  32.88     0.201       90.0   \n",
       "4          108.073         1.0   989.411946  38.11     0.204       98.0   \n",
       "\n",
       "   thickness  resist_target  N2_HMDS  pressure_HMDS  temp_HMDS  \\\n",
       "0    699.443       1.211940   13.891         15.025     20.000   \n",
       "1    696.792       0.887720   14.722         15.059     19.995   \n",
       "2    705.471       1.113156   19.205         14.964     19.997   \n",
       "3    710.772       0.882195   16.368         14.944     19.998   \n",
       "4    716.975       0.834001   13.926         14.933     20.002   \n",
       "\n",
       "   temp_HMDS_bake  time_HMDS_bake    spin1     spin2     spin3  \\\n",
       "0         198.792          90.001  504.589  4082.622  5184.620   \n",
       "1         198.747          89.998  492.196  3960.739  5065.197   \n",
       "2         202.139          90.000  499.886  3981.691  4873.417   \n",
       "3         199.649          90.001  505.249  3922.191  5131.972   \n",
       "4         204.544          90.001  501.089  4124.099  5108.355   \n",
       "\n",
       "   photoresist_bake  temp_softbake  time_softbake  \n",
       "0             5.044         90.894         30.009  \n",
       "1             5.058         92.334         29.997  \n",
       "2             5.151         91.868         30.005  \n",
       "3             5.069         91.881         29.997  \n",
       "4             5.055         91.212         30.001  "
      ]
     },
     "execution_count": 30,
     "metadata": {},
     "output_type": "execute_result"
    }
   ],
   "source": [
    "X.head()"
   ]
  },
  {
   "cell_type": "code",
   "execution_count": 38,
   "id": "399fa42a-063e-4d4f-bb69-a73b059a396e",
   "metadata": {},
   "outputs": [],
   "source": [
    "# ftr_importances_values = gbm_result.feature_importances_\n",
    "# ftr_importances = pd.Series(ftr_importances_values, index = X_train.columns)\n",
    "# ftr_top20 = ftr_importances.sort_values(ascending=False)[:20]\n",
    "\n",
    "# plt.figure(figsize=(8,6))\n",
    "# plt.title('Top 20 Feature Importances')\n",
    "# sns.barplot(x=ftr_top20, y=ftr_top20.index)\n",
    "# plt.show()"
   ]
  },
  {
   "cell_type": "markdown",
   "id": "50d9c243-cd23-4ce6-8140-a03ea685eab9",
   "metadata": {},
   "source": [
    "### Random Forest를 이용한 모델링"
   ]
  },
  {
   "cell_type": "code",
   "execution_count": 32,
   "id": "fadf7e8b-ebcd-4660-ad06-fd7bea841b61",
   "metadata": {},
   "outputs": [],
   "source": [
    "rf_clf1 = RandomForestClassifier(random_state=0)"
   ]
  },
  {
   "cell_type": "code",
   "execution_count": 33,
   "id": "5add9fd4-db82-404c-a267-85d3550fdcec",
   "metadata": {},
   "outputs": [],
   "source": [
    "rfm_result = rf_clf1.fit(X_train, y_train)"
   ]
  },
  {
   "cell_type": "code",
   "execution_count": 34,
   "id": "dd1ec63c-e18f-460d-adc3-b50f88af152c",
   "metadata": {},
   "outputs": [],
   "source": [
    "y_train_pred = rfm_result.predict(X_train)\n",
    "y_test_pred = rfm_result.predict(X_test)"
   ]
  },
  {
   "cell_type": "code",
   "execution_count": 35,
   "id": "57f51880-567e-42c7-8b51-0c5c793f69c6",
   "metadata": {},
   "outputs": [
    {
     "name": "stdout",
     "output_type": "stream",
     "text": [
      "1.0 \n",
      " [[175   0]\n",
      " [  0  15]]\n"
     ]
    }
   ],
   "source": [
    "conf_mat = confusion_matrix(y_test, y_test_pred)\n",
    "print(score, '\\n',conf_mat)"
   ]
  },
  {
   "cell_type": "code",
   "execution_count": 36,
   "id": "fffddfc7-0ebb-466c-8245-88a0414ef925",
   "metadata": {},
   "outputs": [
    {
     "name": "stdout",
     "output_type": "stream",
     "text": [
      "              precision    recall  f1-score   support\n",
      "\n",
      "         0.0       1.00      1.00      1.00       519\n",
      "         1.0       1.00      1.00      1.00        49\n",
      "\n",
      "    accuracy                           1.00       568\n",
      "   macro avg       1.00      1.00      1.00       568\n",
      "weighted avg       1.00      1.00      1.00       568\n",
      "\n",
      "\n",
      "\n",
      "              precision    recall  f1-score   support\n",
      "\n",
      "         0.0       1.00      1.00      1.00       175\n",
      "         1.0       1.00      1.00      1.00        15\n",
      "\n",
      "    accuracy                           1.00       190\n",
      "   macro avg       1.00      1.00      1.00       190\n",
      "weighted avg       1.00      1.00      1.00       190\n",
      "\n"
     ]
    }
   ],
   "source": [
    "print(classification_report(y_train,  y_train_pred))\n",
    "print(\"\\n\")\n",
    "print(classification_report(y_test,  y_test_pred))"
   ]
  },
  {
   "cell_type": "code",
   "execution_count": 37,
   "id": "dcb4fa65-3d3d-4eee-8236-4b102518fc70",
   "metadata": {},
   "outputs": [
    {
     "data": {
      "image/png": "[encoded data removed]",
      "text/plain": [
       "<Figure size 576x432 with 1 Axes>"
      ]
     },
     "metadata": {
      "image/png": {
       "height": 372,
       "width": 558
      },
      "needs_background": "light"
     },
     "output_type": "display_data"
    }
   ],
   "source": [
    "ftr_importances_values = rf_clf1.feature_importances_\n",
    "ftr_importances = pd.Series(ftr_importances_values, index = X_train.columns)\n",
    "ftr_top20 = ftr_importances.sort_values(ascending=False)[:20]\n",
    "\n",
    "plt.figure(figsize=(8,6))\n",
    "plt.title('Top 20 Feature Importances')\n",
    "sns.barplot(x=ftr_top20, y=ftr_top20.index)\n",
    "plt.show()"
   ]
  },
  {
   "cell_type": "markdown",
   "id": "97b8e7ce-88ac-47cd-80d9-e6eb656e4232",
   "metadata": {},
   "source": [
    "- 어떤 모델이 가장 성능이 좋은가? acuuracy 정확도는 0.97로 gradient boosting 학습모델이 결과가 가장 좋았다.\n",
    "- 가장 학습이 느린 모델은 무엇이며, 그 이유는 무엇인가? 가장 학습이 느린 모델은 gradient boosting모델로, 오차를 바탕으로 작아지는 방향으로 지속적으로 반복하여 데이터를 계산하기 때문이다.\n",
    "- 일반화(검증데이터)에 대한 성능을 높이려면 어떻게 해야하는가? 단일 모델을 사용하는 것이 아닌, 앙상블 방법론을 사용해 결합 모형을 사용한다(Boosting 모델)"
   ]
  },
  {
   "cell_type": "code",
   "execution_count": null,
   "id": "a3edc32d-ede8-4340-b5e2-53813dfb754e",
   "metadata": {},
   "outputs": [],
   "source": []
  },
  {
   "cell_type": "markdown",
   "id": "e9bd6e0e-2f39-430a-b315-044459192b4f",
   "metadata": {},
   "source": [
    "# **머신러닝과 딥러닝 학습 모델 고도화 예정**"
   ]
  },
  {
   "cell_type": "code",
   "execution_count": null,
   "id": "193dd38a-4196-4459-a2e7-4c715c03fbde",
   "metadata": {},
   "outputs": [],
   "source": []
  }
 ],
 "metadata": {
  "kernelspec": {
   "display_name": "py38",
   "language": "python",
   "name": "py38"
  },
  "language_info": {
   "codemirror_mode": {
    "name": "ipython",
    "version": 3
   },
   "file_extension": ".py",
   "mimetype": "text/x-python",
   "name": "python",
   "nbconvert_exporter": "python",
   "pygments_lexer": "ipython3",
   "version": "3.8.12"
  }
 },
 "nbformat": 4,
 "nbformat_minor": 5
}
